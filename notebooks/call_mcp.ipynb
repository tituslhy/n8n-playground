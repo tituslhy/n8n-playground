{
 "cells": [
  {
   "cell_type": "code",
   "execution_count": 1,
   "id": "31886d86",
   "metadata": {},
   "outputs": [],
   "source": [
    "import nest_asyncio\n",
    "nest_asyncio.apply()"
   ]
  },
  {
   "cell_type": "code",
   "execution_count": 2,
   "id": "d8a83b02",
   "metadata": {},
   "outputs": [],
   "source": [
    "from fastmcp import Client\n",
    "from fastmcp.client.transports import SSETransport\n",
    "\n",
    "\n",
    "async with Client(SSETransport(\"http://localhost:3000/sse\")) as client:\n",
    "    tools = await client.list_tools()"
   ]
  },
  {
   "cell_type": "code",
   "execution_count": 3,
   "id": "7ab73cbe",
   "metadata": {},
   "outputs": [
    {
     "data": {
      "text/plain": [
       "[Tool(name='get_exchange_rate', title=None, description='Use this to get current exchange rate.\\n\\nArgs:\\n    currency_from: The currency to convert from (e.g., \"USD\").\\n    currency_to: The currency to convert to (e.g., \"EUR\").\\n    currency_date: The date for the exchange rate or \"latest\". Defaults to \"latest\".\\n\\nReturns:\\n    A dictionary containing the exchange rate data, or an error message if the request fails.', inputSchema={'properties': {'currency_from': {'default': 'USD', 'title': 'Currency From', 'type': 'string'}, 'currency_to': {'default': 'EUR', 'title': 'Currency To', 'type': 'string'}, 'currency_date': {'default': 'latest', 'title': 'Currency Date', 'type': 'string'}}, 'type': 'object'}, outputSchema=None, annotations=None, meta=None)]"
      ]
     },
     "execution_count": 3,
     "metadata": {},
     "output_type": "execute_result"
    }
   ],
   "source": [
    "tools"
   ]
  },
  {
   "cell_type": "code",
   "execution_count": 4,
   "id": "da0fa896",
   "metadata": {},
   "outputs": [
    {
     "name": "stdout",
     "output_type": "stream",
     "text": [
      "CallToolResult(content=[TextContent(type='text', text='{\"amount\":1.0,\"base\":\"SGD\",\"date\":\"2025-07-22\",\"rates\":{\"USD\":0.7804}}', annotations=None, meta=None)], structured_content={'amount': 1.0, 'base': 'SGD', 'date': '2025-07-22', 'rates': {'USD': 0.7804}}, data={'amount': 1.0, 'base': 'SGD', 'date': '2025-07-22', 'rates': {'USD': 0.7804}}, is_error=False)\n"
     ]
    }
   ],
   "source": [
    "async with Client(SSETransport(\"http://localhost:3000/sse\")) as client:\n",
    "    result = await client.call_tool(\n",
    "        \"get_exchange_rate\",\n",
    "        {\n",
    "            \"currency_from\": \"SGD\",\n",
    "            \"currency_to\": \"USD\",\n",
    "        }\n",
    "    )\n",
    "\n",
    "print(result)"
   ]
  },
  {
   "cell_type": "code",
   "execution_count": 5,
   "id": "3ea1eab8",
   "metadata": {},
   "outputs": [
    {
     "data": {
      "text/markdown": [
       "{\"amount\":1.0,\"base\":\"SGD\",\"date\":\"2025-07-22\",\"rates\":{\"USD\":0.7804}}"
      ],
      "text/plain": [
       "<IPython.core.display.Markdown object>"
      ]
     },
     "metadata": {},
     "output_type": "display_data"
    }
   ],
   "source": [
    "from IPython.display import display, Markdown\n",
    "\n",
    "display(Markdown(result.content[0].text))"
   ]
  },
  {
   "cell_type": "code",
   "execution_count": null,
   "id": "aae4c026",
   "metadata": {},
   "outputs": [],
   "source": []
  }
 ],
 "metadata": {
  "kernelspec": {
   "display_name": "n8n-playground",
   "language": "python",
   "name": "python3"
  },
  "language_info": {
   "codemirror_mode": {
    "name": "ipython",
    "version": 3
   },
   "file_extension": ".py",
   "mimetype": "text/x-python",
   "name": "python",
   "nbconvert_exporter": "python",
   "pygments_lexer": "ipython3",
   "version": "3.12.5"
  }
 },
 "nbformat": 4,
 "nbformat_minor": 5
}
