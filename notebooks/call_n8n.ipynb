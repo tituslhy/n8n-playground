{
 "cells": [
  {
   "cell_type": "code",
   "execution_count": 1,
   "id": "5503d76e",
   "metadata": {},
   "outputs": [],
   "source": [
    "import requests\n",
    "\n",
    "url = \"http://localhost:5678/webhook-test/n8n\""
   ]
  },
  {
   "cell_type": "markdown",
   "id": "9dc008af",
   "metadata": {},
   "source": [
    "This is what happens when the webhook responds immediately."
   ]
  },
  {
   "cell_type": "code",
   "execution_count": 5,
   "id": "92913279",
   "metadata": {},
   "outputs": [
    {
     "name": "stdout",
     "output_type": "stream",
     "text": [
      "Status: 200\n",
      "Response: {\"message\":\"Workflow was started\"}\n"
     ]
    }
   ],
   "source": [
    "payload = {\n",
    "    \"chatInput\": \"Hi! What is the current exchange rate from SGD to USD?\",\n",
    "}\n",
    "\n",
    "# Send JSON with proper headers\n",
    "response = requests.post(url, json=payload)\n",
    "\n",
    "# Check the response\n",
    "print(\"Status:\", response.status_code)\n",
    "print(\"Response:\", response.text)"
   ]
  },
  {
   "cell_type": "markdown",
   "id": "c78f75a4",
   "metadata": {},
   "source": [
    "This is what happens when the webhook responds only after the last node has executed"
   ]
  },
  {
   "cell_type": "code",
   "execution_count": 6,
   "id": "063b092d",
   "metadata": {},
   "outputs": [
    {
     "name": "stdout",
     "output_type": "stream",
     "text": [
      "Status: 200\n",
      "Response: {\"text\":\"The current exchange rate from Singapore Dollar (SGD) to US Dollar (USD) is approximately 1 SGD = 0.7804 USD as of July 22, 2025. Please note that currency rates can fluctuate and it's a good idea to check the latest rates for your specific needs.\"}\n"
     ]
    }
   ],
   "source": [
    "payload = {\n",
    "    \"chatInput\": \"Hi! What is the current exchange rate from SGD to USD?\",\n",
    "}\n",
    "\n",
    "# Send JSON with proper headers\n",
    "response = requests.post(url, json=payload)\n",
    "\n",
    "# Check the response\n",
    "print(\"Status:\", response.status_code)\n",
    "print(\"Response:\", response.text)"
   ]
  },
  {
   "cell_type": "code",
   "execution_count": 12,
   "id": "fd90dbb6",
   "metadata": {},
   "outputs": [
    {
     "data": {
      "text/markdown": [
       "The current exchange rate from Singapore Dollar (SGD) to US Dollar (USD) is approximately 1 SGD = 0.7804 USD as of July 22, 2025. Please note that currency rates can fluctuate and it's a good idea to check the latest rates for your specific needs."
      ],
      "text/plain": [
       "<IPython.core.display.Markdown object>"
      ]
     },
     "metadata": {},
     "output_type": "display_data"
    }
   ],
   "source": [
    "import json\n",
    "from IPython.display import display, Markdown\n",
    "\n",
    "display(Markdown(json.loads(response.text)['text']))"
   ]
  },
  {
   "cell_type": "code",
   "execution_count": null,
   "id": "2b54af2a",
   "metadata": {},
   "outputs": [],
   "source": []
  }
 ],
 "metadata": {
  "kernelspec": {
   "display_name": "n8n-playground",
   "language": "python",
   "name": "python3"
  },
  "language_info": {
   "codemirror_mode": {
    "name": "ipython",
    "version": 3
   },
   "file_extension": ".py",
   "mimetype": "text/x-python",
   "name": "python",
   "nbconvert_exporter": "python",
   "pygments_lexer": "ipython3",
   "version": "3.12.5"
  }
 },
 "nbformat": 4,
 "nbformat_minor": 5
}
