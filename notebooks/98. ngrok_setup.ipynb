{
 "cells": [
  {
   "cell_type": "code",
   "execution_count": 1,
   "id": "353fc10a",
   "metadata": {},
   "outputs": [],
   "source": [
    "%load_ext autoreload\n",
    "%autoreload 2"
   ]
  },
  {
   "cell_type": "markdown",
   "id": "639a615d",
   "metadata": {},
   "source": [
    "## Serving a localhost URL to the public domain using ngrok!\n",
    "\n",
    "First you'll have to sign up for a [free ngrok account](https://ngrok.com/) and get an ngrok authenticaion token. \n",
    "> Note that all free ngrok websites will only stay alive for **4 hours**! You only need this part if you're intending to call Google's APIs (like me) in one of my workflows"
   ]
  },
  {
   "cell_type": "code",
   "execution_count": 2,
   "id": "15371c3a",
   "metadata": {},
   "outputs": [],
   "source": [
    "import os\n",
    "from dotenv import load_dotenv, find_dotenv\n",
    "\n",
    "_ = load_dotenv(find_dotenv())"
   ]
  },
  {
   "cell_type": "code",
   "execution_count": 3,
   "id": "c2e0afb2",
   "metadata": {},
   "outputs": [
    {
     "name": "stdout",
     "output_type": "stream",
     "text": [
      "Authtoken saved to configuration file: /Users/tituslim/Library/Application Support/ngrok/ngrok.yml\n"
     ]
    }
   ],
   "source": [
    "!ngrok config add-authtoken {os.environ.get(\"NGROK_AUTH_TOKEN\")}"
   ]
  },
  {
   "cell_type": "code",
   "execution_count": null,
   "id": "bfd803d2",
   "metadata": {},
   "outputs": [
    {
     "name": "stdout",
     "output_type": "stream",
     "text": [
      " * ngrok tunnel \"https://77cde1db9c5f.ngrok-free.app\" -> \"http://127.0.0.1:5678\"\n"
     ]
    },
    {
     "name": "stderr",
     "output_type": "stream",
     "text": [
      "t=2025-07-23T12:09:57+0800 lvl=eror msg=\"heartbeat timeout, terminating session\" obj=tunnels.session obj=csess id=92e8450c2b05 clientid=2dff1b90957715806d43975d5db1e6de\n",
      "t=2025-07-23T12:09:57+0800 lvl=eror msg=\"session closed, starting reconnect loop\" obj=tunnels.session obj=csess id=3f97680b0ef5 err=\"session closed\"\n",
      "t=2025-07-23T12:18:23+0800 lvl=eror msg=\"failed to reconnect session\" obj=tunnels.session err=\"failed to send authentication request: read tcp 192.168.50.13:56387->3.12.62.205:443: read: connection reset by peer\"\n",
      "t=2025-07-23T12:33:15+0800 lvl=eror msg=\"session closed, starting reconnect loop\" obj=tunnels.session obj=csess id=3f97680b0ef5 err=\"read tcp 192.168.50.13:56399->3.12.62.205:443: read: connection reset by peer\"\n",
      "t=2025-07-23T13:07:08+0800 lvl=eror msg=\"session closed, starting reconnect loop\" obj=tunnels.session obj=csess id=3f97680b0ef5 err=\"read tcp 192.168.50.13:56440->3.12.62.205:443: read: connection reset by peer\"\n",
      "t=2025-07-23T13:07:14+0800 lvl=eror msg=\"heartbeat timeout, terminating session\" obj=tunnels.session obj=csess id=e9fb7dc7ba89 clientid=2dff1b90957715806d43975d5db1e6de\n",
      "t=2025-07-23T13:24:25+0800 lvl=eror msg=\"session closed, starting reconnect loop\" obj=tunnels.session obj=csess id=3f97680b0ef5 err=\"read tcp 192.168.50.13:56530->3.12.62.205:443: read: connection reset by peer\"\n",
      "t=2025-07-23T13:24:28+0800 lvl=eror msg=\"heartbeat timeout, terminating session\" obj=tunnels.session obj=csess id=52686faf2aee clientid=2dff1b90957715806d43975d5db1e6de\n",
      "t=2025-07-23T13:47:28+0800 lvl=eror msg=\"session closed, starting reconnect loop\" obj=tunnels.session obj=csess id=3f97680b0ef5 err=\"read tcp 192.168.50.13:56578->3.134.73.173:443: read: connection reset by peer\"\n",
      "t=2025-07-23T13:47:32+0800 lvl=eror msg=\"heartbeat timeout, terminating session\" obj=tunnels.session obj=csess id=49828360a9d9 clientid=2dff1b90957715806d43975d5db1e6de\n",
      "t=2025-07-23T13:55:01+0800 lvl=eror msg=\"session closed, starting reconnect loop\" obj=tunnels.session obj=csess id=3f97680b0ef5 err=\"read tcp 192.168.50.13:56649->3.134.73.173:443: read: connection reset by peer\"\n",
      "t=2025-07-23T13:55:08+0800 lvl=eror msg=\"heartbeat timeout, terminating session\" obj=tunnels.session obj=csess id=64a481d8138a clientid=2dff1b90957715806d43975d5db1e6de\n",
      "t=2025-07-23T13:55:20+0800 lvl=eror msg=\"heartbeat timeout, terminating session\" obj=tunnels.session obj=csess id=6393e7cc38bb clientid=2dff1b90957715806d43975d5db1e6de\n",
      "t=2025-07-23T13:59:04+0800 lvl=eror msg=\"heartbeat timeout, terminating session\" obj=tunnels.session obj=csess id=ce942fd5ffd4 clientid=2dff1b90957715806d43975d5db1e6de\n",
      "t=2025-07-23T13:59:04+0800 lvl=eror msg=\"session closed, starting reconnect loop\" obj=tunnels.session obj=csess id=3f97680b0ef5 err=\"session closed\"\n"
     ]
    }
   ],
   "source": [
    "from pyngrok import ngrok\n",
    "\n",
    "port = 5678\n",
    "# Open a ngrok tunnel to the HTTP server\n",
    "public_url = ngrok.connect(port).public_url\n",
    "print(f\" * ngrok tunnel \\\"{public_url}\\\" -> \\\"http://127.0.0.1:{port}\\\"\")"
   ]
  },
  {
   "cell_type": "markdown",
   "id": "bc397bbf",
   "metadata": {},
   "source": [
    "## Now spin up your n8n service\n",
    "In your terminal, run: `docker-compose up -d`"
   ]
  }
 ],
 "metadata": {
  "kernelspec": {
   "display_name": "n8n-playground",
   "language": "python",
   "name": "python3"
  },
  "language_info": {
   "codemirror_mode": {
    "name": "ipython",
    "version": 3
   },
   "file_extension": ".py",
   "mimetype": "text/x-python",
   "name": "python",
   "nbconvert_exporter": "python",
   "pygments_lexer": "ipython3",
   "version": "3.12.5"
  }
 },
 "nbformat": 4,
 "nbformat_minor": 5
}
